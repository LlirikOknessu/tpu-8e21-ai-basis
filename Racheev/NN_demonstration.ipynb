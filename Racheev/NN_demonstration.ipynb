{
 "cells": [
  {
   "cell_type": "code",
   "execution_count": 43,
   "metadata": {},
   "outputs": [
    {
     "name": "stdout",
     "output_type": "stream",
     "text": [
      "TensorFlow version: 2.18.0\n",
      "The tensorboard extension is already loaded. To reload it, use:\n",
      "  %reload_ext tensorboard\n"
     ]
    }
   ],
   "source": [
    "import tensorflow as tf\n",
    "from tensorflow.keras.layers import Dense\n",
    "print(\"TensorFlow version:\", tf.__version__)\n",
    "# Load the TensorBoard notebook extension\n",
    "%load_ext tensorboard\n",
    "import datetime\n",
    "import shutil"
   ]
  },
  {
   "cell_type": "code",
   "execution_count": 44,
   "metadata": {
    "pycharm": {
     "name": "#%%\n"
    }
   },
   "outputs": [],
   "source": [
    " %reload_ext tensorboard\n",
    "from tensorflow.keras import Model\n",
    "from pathlib import Path\n",
    "import pandas as pd"
   ]
  },
  {
   "cell_type": "code",
   "execution_count": 45,
   "metadata": {
    "pycharm": {
     "name": "#%%\n"
    }
   },
   "outputs": [],
   "source": [
    "BATCH_SIZE = 64\n",
    "BUFFER_SIZE = 128\n",
    "LEARNING_RATE = 0.005\n",
    "EPOCHS = 50"
   ]
  },
  {
   "cell_type": "code",
   "execution_count": 46,
   "metadata": {
    "pycharm": {
     "name": "#%%\n"
    }
   },
   "outputs": [],
   "source": [
    "input_dir = Path('./data/prepared')\n",
    "logs_path = Path('./data/logs')\n",
    "if logs_path.exists():\n",
    "  shutil.rmtree(logs_path)\n",
    "logs_path.mkdir(parents=True)\n",
    "\n",
    "X_train_name = input_dir / 'X_train.csv'\n",
    "y_train_name = input_dir / 'y_train.csv'\n",
    "X_test_name = input_dir / 'X_test.csv'\n",
    "y_test_name = input_dir / 'y_test.csv'\n",
    "\n",
    "X_train = pd.read_csv(X_train_name)\n",
    "y_train = pd.read_csv(y_train_name)\n",
    "X_test = pd.read_csv(X_test_name)\n",
    "y_test = pd.read_csv(y_test_name)\n",
    "\n",
    "train_ds = tf.data.Dataset.from_tensor_slices(\n",
    "    (X_train, y_train)).shuffle(BUFFER_SIZE).batch(BATCH_SIZE)\n",
    "\n",
    "test_ds = tf.data.Dataset.from_tensor_slices((X_test, y_test)).batch(BATCH_SIZE)"
   ]
  },
  {
   "cell_type": "code",
   "execution_count": 47,
   "metadata": {
    "pycharm": {
     "name": "#%%\n"
    }
   },
   "outputs": [
    {
     "data": {
      "text/plain": [
       "(3249, 8)"
      ]
     },
     "execution_count": 47,
     "metadata": {},
     "output_type": "execute_result"
    }
   ],
   "source": [
    "X_train.shape"
   ]
  },
  {
   "cell_type": "code",
   "execution_count": 48,
   "metadata": {},
   "outputs": [
    {
     "data": {
      "text/html": [
       "<div>\n",
       "<style scoped>\n",
       "    .dataframe tbody tr th:only-of-type {\n",
       "        vertical-align: middle;\n",
       "    }\n",
       "\n",
       "    .dataframe tbody tr th {\n",
       "        vertical-align: top;\n",
       "    }\n",
       "\n",
       "    .dataframe thead th {\n",
       "        text-align: right;\n",
       "    }\n",
       "</style>\n",
       "<table border=\"1\" class=\"dataframe\">\n",
       "  <thead>\n",
       "    <tr style=\"text-align: right;\">\n",
       "      <th></th>\n",
       "      <th>year</th>\n",
       "      <th>fuel</th>\n",
       "      <th>seller_type</th>\n",
       "      <th>transmission</th>\n",
       "      <th>owner</th>\n",
       "      <th>brand</th>\n",
       "      <th>km_dr_gr</th>\n",
       "      <th>mpow_val</th>\n",
       "    </tr>\n",
       "  </thead>\n",
       "  <tbody>\n",
       "    <tr>\n",
       "      <th>0</th>\n",
       "      <td>25</td>\n",
       "      <td>1</td>\n",
       "      <td>1</td>\n",
       "      <td>1</td>\n",
       "      <td>1</td>\n",
       "      <td>3</td>\n",
       "      <td>0</td>\n",
       "      <td>73</td>\n",
       "    </tr>\n",
       "    <tr>\n",
       "      <th>1</th>\n",
       "      <td>22</td>\n",
       "      <td>0</td>\n",
       "      <td>1</td>\n",
       "      <td>1</td>\n",
       "      <td>2</td>\n",
       "      <td>3</td>\n",
       "      <td>2</td>\n",
       "      <td>99</td>\n",
       "    </tr>\n",
       "    <tr>\n",
       "      <th>2</th>\n",
       "      <td>21</td>\n",
       "      <td>1</td>\n",
       "      <td>1</td>\n",
       "      <td>1</td>\n",
       "      <td>1</td>\n",
       "      <td>3</td>\n",
       "      <td>2</td>\n",
       "      <td>87</td>\n",
       "    </tr>\n",
       "    <tr>\n",
       "      <th>3</th>\n",
       "      <td>24</td>\n",
       "      <td>1</td>\n",
       "      <td>0</td>\n",
       "      <td>1</td>\n",
       "      <td>1</td>\n",
       "      <td>3</td>\n",
       "      <td>0</td>\n",
       "      <td>85</td>\n",
       "    </tr>\n",
       "    <tr>\n",
       "      <th>4</th>\n",
       "      <td>22</td>\n",
       "      <td>0</td>\n",
       "      <td>1</td>\n",
       "      <td>1</td>\n",
       "      <td>2</td>\n",
       "      <td>6</td>\n",
       "      <td>3</td>\n",
       "      <td>74</td>\n",
       "    </tr>\n",
       "    <tr>\n",
       "      <th>...</th>\n",
       "      <td>...</td>\n",
       "      <td>...</td>\n",
       "      <td>...</td>\n",
       "      <td>...</td>\n",
       "      <td>...</td>\n",
       "      <td>...</td>\n",
       "      <td>...</td>\n",
       "      <td>...</td>\n",
       "    </tr>\n",
       "    <tr>\n",
       "      <th>3244</th>\n",
       "      <td>25</td>\n",
       "      <td>1</td>\n",
       "      <td>1</td>\n",
       "      <td>1</td>\n",
       "      <td>1</td>\n",
       "      <td>3</td>\n",
       "      <td>0</td>\n",
       "      <td>84</td>\n",
       "    </tr>\n",
       "    <tr>\n",
       "      <th>3245</th>\n",
       "      <td>17</td>\n",
       "      <td>0</td>\n",
       "      <td>1</td>\n",
       "      <td>1</td>\n",
       "      <td>2</td>\n",
       "      <td>3</td>\n",
       "      <td>2</td>\n",
       "      <td>126</td>\n",
       "    </tr>\n",
       "    <tr>\n",
       "      <th>3246</th>\n",
       "      <td>16</td>\n",
       "      <td>0</td>\n",
       "      <td>1</td>\n",
       "      <td>1</td>\n",
       "      <td>2</td>\n",
       "      <td>3</td>\n",
       "      <td>3</td>\n",
       "      <td>102</td>\n",
       "    </tr>\n",
       "    <tr>\n",
       "      <th>3247</th>\n",
       "      <td>18</td>\n",
       "      <td>1</td>\n",
       "      <td>1</td>\n",
       "      <td>1</td>\n",
       "      <td>3</td>\n",
       "      <td>3</td>\n",
       "      <td>3</td>\n",
       "      <td>67</td>\n",
       "    </tr>\n",
       "    <tr>\n",
       "      <th>3248</th>\n",
       "      <td>18</td>\n",
       "      <td>0</td>\n",
       "      <td>1</td>\n",
       "      <td>1</td>\n",
       "      <td>1</td>\n",
       "      <td>3</td>\n",
       "      <td>3</td>\n",
       "      <td>68</td>\n",
       "    </tr>\n",
       "  </tbody>\n",
       "</table>\n",
       "<p>3249 rows × 8 columns</p>\n",
       "</div>"
      ],
      "text/plain": [
       "      year  fuel  seller_type  transmission  owner  brand  km_dr_gr  mpow_val\n",
       "0       25     1            1             1      1      3         0        73\n",
       "1       22     0            1             1      2      3         2        99\n",
       "2       21     1            1             1      1      3         2        87\n",
       "3       24     1            0             1      1      3         0        85\n",
       "4       22     0            1             1      2      6         3        74\n",
       "...    ...   ...          ...           ...    ...    ...       ...       ...\n",
       "3244    25     1            1             1      1      3         0        84\n",
       "3245    17     0            1             1      2      3         2       126\n",
       "3246    16     0            1             1      2      3         3       102\n",
       "3247    18     1            1             1      3      3         3        67\n",
       "3248    18     0            1             1      1      3         3        68\n",
       "\n",
       "[3249 rows x 8 columns]"
      ]
     },
     "execution_count": 48,
     "metadata": {},
     "output_type": "execute_result"
    }
   ],
   "source": [
    "X_train"
   ]
  },
  {
   "cell_type": "code",
   "execution_count": 49,
   "metadata": {
    "pycharm": {
     "name": "#%%\n"
    }
   },
   "outputs": [
    {
     "data": {
      "text/plain": [
       "<_BatchDataset element_spec=(TensorSpec(shape=(None, 8), dtype=tf.int64, name=None), TensorSpec(shape=(None, 1), dtype=tf.float64, name=None))>"
      ]
     },
     "execution_count": 49,
     "metadata": {},
     "output_type": "execute_result"
    }
   ],
   "source": [
    "train_ds"
   ]
  },
  {
   "cell_type": "code",
   "execution_count": 50,
   "metadata": {
    "pycharm": {
     "name": "#%%\n"
    }
   },
   "outputs": [],
   "source": [
    "@tf.keras.utils.register_keras_serializable()\n",
    "class SomeModel(Model):\n",
    "    def __init__(self, neurons_cnt=128, **kwargs):\n",
    "        super(SomeModel, self).__init__(**kwargs)\n",
    "        self.neurons_cnt = neurons_cnt  # Сохраняем значение параметра для конфигурации\n",
    "        self.d_in = Dense(8, activation='relu')\n",
    "        self.d1 = Dense(neurons_cnt, activation='relu')\n",
    "        self.d2 = Dense(neurons_cnt, activation='relu')\n",
    "        self.d_out = Dense(1, activation='sigmoid')\n",
    "\n",
    "    def call(self, x):\n",
    "        x = self.d_in(x)\n",
    "        x = self.d1(x)\n",
    "        x = self.d2(x)\n",
    "        return self.d_out(x)\n",
    "\n",
    "    def get_config(self):\n",
    "        # Возвращаем параметры модели, включая кастомные\n",
    "        config = super(SomeModel, self).get_config()\n",
    "        config.update({\n",
    "            \"neurons_cnt\": self.neurons_cnt  # Добавляем кастомный параметр в конфигурацию\n",
    "        })\n",
    "        return config\n",
    "\n",
    "    @classmethod\n",
    "    def from_config(cls, config):\n",
    "        # Создаём экземпляр класса из конфигурации\n",
    "        return cls(**config)"
   ]
  },
  {
   "cell_type": "code",
   "execution_count": null,
   "metadata": {
    "collapsed": false,
    "jupyter": {
     "outputs_hidden": false
    },
    "pycharm": {
     "name": "#%%\n"
    }
   },
   "outputs": [],
   "source": []
  },
  {
   "cell_type": "code",
   "execution_count": 51,
   "metadata": {
    "pycharm": {
     "name": "#%%\n"
    }
   },
   "outputs": [
    {
     "name": "stderr",
     "output_type": "stream",
     "text": [
      "D:\\project\\PycharmProjects\\tpu-8e21-ai-basis\\.venv\\Lib\\site-packages\\keras\\src\\layers\\layer.py:391: UserWarning: `build()` was called on layer 'some_model_2', however the layer does not have a `build()` method implemented and it looks like it has unbuilt state. This will cause the layer to be marked as built, despite not being actually built, which may cause failures down the line. Make sure to implement a proper `build()` method.\n",
      "  warnings.warn(\n"
     ]
    }
   ],
   "source": [
    "# Create an instance of the model\n",
    "model = SomeModel(neurons_cnt=32)\n",
    "model.build(input_shape=(None, 8))"
   ]
  },
  {
   "cell_type": "code",
   "execution_count": 52,
   "metadata": {
    "pycharm": {
     "name": "#%%\n"
    }
   },
   "outputs": [],
   "source": [
    "loss_object = tf.keras.losses.MeanSquaredError()\n",
    "optimizer = tf.keras.optimizers.SGD(learning_rate=LEARNING_RATE)"
   ]
  },
  {
   "cell_type": "code",
   "execution_count": 53,
   "metadata": {
    "pycharm": {
     "name": "#%%\n"
    }
   },
   "outputs": [],
   "source": [
    "train_loss = tf.keras.metrics.Mean(name='train_loss')\n",
    "train_accuracy = tf.keras.metrics.MeanAbsoluteError(name='train_mae')\n",
    "\n",
    "test_loss = tf.keras.metrics.Mean(name='test_loss')\n",
    "test_accuracy = tf.keras.metrics.MeanAbsoluteError(name='test_mae')"
   ]
  },
  {
   "cell_type": "code",
   "execution_count": 54,
   "metadata": {
    "pycharm": {
     "name": "#%%\n"
    }
   },
   "outputs": [],
   "source": [
    "@tf.function\n",
    "def train_step(input_vector, labels):\n",
    "  with tf.GradientTape() as tape:\n",
    "    # training=True is only needed if there are layers with different\n",
    "    # behavior during training versus inference (e.g. Dropout).\n",
    "    predictions = model(input_vector, training=True)\n",
    "    loss = loss_object(labels, predictions)\n",
    "  gradients = tape.gradient(loss, model.trainable_variables)\n",
    "  optimizer.apply_gradients(zip(gradients, model.trainable_variables))\n",
    "\n",
    "  train_loss(loss)\n",
    "  train_accuracy(labels, predictions)"
   ]
  },
  {
   "cell_type": "code",
   "execution_count": 55,
   "metadata": {
    "pycharm": {
     "name": "#%%\n"
    }
   },
   "outputs": [],
   "source": [
    "@tf.function\n",
    "def test_step(input_vector, labels):\n",
    "  # training=False is only needed if there are layers with different\n",
    "  # behavior during training versus inference (e.g. Dropout).\n",
    "  predictions = model(input_vector, training=False)\n",
    "  t_loss = loss_object(labels, predictions)\n",
    "\n",
    "  test_loss(t_loss)\n",
    "  test_accuracy(labels, predictions)"
   ]
  },
  {
   "cell_type": "code",
   "execution_count": 56,
   "metadata": {
    "pycharm": {
     "name": "#%%\n"
    }
   },
   "outputs": [],
   "source": [
    "from tensorflow import keras"
   ]
  },
  {
   "cell_type": "code",
   "execution_count": 57,
   "metadata": {
    "pycharm": {
     "name": "#%%\n"
    }
   },
   "outputs": [
    {
     "name": "stdout",
     "output_type": "stream",
     "text": [
      "Epoch 1, Loss: 0.039132993668317795, Accuracy: 0.14939521253108978, Test Loss: 0.04088291898369789, Test MAE: 0.15056553483009338\n",
      "Epoch 2, Loss: 0.03672472760081291, Accuracy: 0.14577481150627136, Test Loss: 0.04008947312831879, Test MAE: 0.14761309325695038\n",
      "Epoch 3, Loss: 0.03477530553936958, Accuracy: 0.14181949198246002, Test Loss: 0.03518027067184448, Test MAE: 0.14558570086956024\n",
      "Epoch 4, Loss: 0.03254890441894531, Accuracy: 0.13806921243667603, Test Loss: 0.03999989479780197, Test MAE: 0.14508046209812164\n",
      "Epoch 5, Loss: 0.03201865404844284, Accuracy: 0.13643869757652283, Test Loss: 0.034850191324949265, Test MAE: 0.13822215795516968\n",
      "Epoch 6, Loss: 0.029253942891955376, Accuracy: 0.13143622875213623, Test Loss: 0.033365003764629364, Test MAE: 0.13481563329696655\n",
      "Epoch 7, Loss: 0.028787145391106606, Accuracy: 0.12954774498939514, Test Loss: 0.02881135232746601, Test MAE: 0.13047273457050323\n",
      "Epoch 8, Loss: 0.027129817754030228, Accuracy: 0.12644565105438232, Test Loss: 0.028922278434038162, Test MAE: 0.12711118161678314\n",
      "Epoch 9, Loss: 0.027322065085172653, Accuracy: 0.12557834386825562, Test Loss: 0.02638017199933529, Test MAE: 0.1254674345254898\n",
      "Epoch 10, Loss: 0.025022396817803383, Accuracy: 0.120928093791008, Test Loss: 0.03198454529047012, Test MAE: 0.12764085829257965\n",
      "Epoch 11, Loss: 0.023794012144207954, Accuracy: 0.11810442060232162, Test Loss: 0.027868861332535744, Test MAE: 0.12111847847700119\n",
      "Epoch 12, Loss: 0.02354242466390133, Accuracy: 0.117799773812294, Test Loss: 0.026016240939497948, Test MAE: 0.11783093214035034\n",
      "Epoch 13, Loss: 0.021819638088345528, Accuracy: 0.11361570656299591, Test Loss: 0.027993788942694664, Test MAE: 0.11923365294933319\n",
      "Epoch 14, Loss: 0.02167798951268196, Accuracy: 0.11249011009931564, Test Loss: 0.021715018898248672, Test MAE: 0.11639413982629776\n",
      "Epoch 15, Loss: 0.020823225378990173, Accuracy: 0.11032038927078247, Test Loss: 0.025889964774250984, Test MAE: 0.11462260037660599\n",
      "Epoch 16, Loss: 0.021717529743909836, Accuracy: 0.11062633246183395, Test Loss: 0.021238118410110474, Test MAE: 0.10808034986257553\n",
      "Epoch 17, Loss: 0.019185427576303482, Accuracy: 0.10597129911184311, Test Loss: 0.022200608626008034, Test MAE: 0.12108055502176285\n",
      "Epoch 18, Loss: 0.019845519214868546, Accuracy: 0.10674602538347244, Test Loss: 0.018775705248117447, Test MAE: 0.10491908341646194\n",
      "Epoch 19, Loss: 0.019340230152010918, Accuracy: 0.1051817238330841, Test Loss: 0.018752161413431168, Test MAE: 0.10256075859069824\n",
      "Epoch 20, Loss: 0.018281584605574608, Accuracy: 0.10227162390947342, Test Loss: 0.018625836819410324, Test MAE: 0.10112167149782181\n",
      "Epoch 21, Loss: 0.017016973346471786, Accuracy: 0.099492646753788, Test Loss: 0.01782519370317459, Test MAE: 0.1063632220029831\n",
      "Epoch 22, Loss: 0.017327873036265373, Accuracy: 0.10030800849199295, Test Loss: 0.024519847705960274, Test MAE: 0.10885389894247055\n",
      "Epoch 23, Loss: 0.017092987895011902, Accuracy: 0.09905949234962463, Test Loss: 0.022336581721901894, Test MAE: 0.1045500785112381\n",
      "Epoch 24, Loss: 0.01799817383289337, Accuracy: 0.10077023506164551, Test Loss: 0.01782837323844433, Test MAE: 0.0967693030834198\n",
      "Epoch 25, Loss: 0.01836874522268772, Accuracy: 0.10108507424592972, Test Loss: 0.016329724341630936, Test MAE: 0.10161849856376648\n",
      "Epoch 26, Loss: 0.01573845185339451, Accuracy: 0.09425311535596848, Test Loss: 0.019141534343361855, Test MAE: 0.09788872301578522\n",
      "Epoch 27, Loss: 0.01678633876144886, Accuracy: 0.09619948267936707, Test Loss: 0.015365296974778175, Test MAE: 0.09254585206508636\n",
      "Epoch 28, Loss: 0.015384734608232975, Accuracy: 0.09365004301071167, Test Loss: 0.015683690086007118, Test MAE: 0.09962743520736694\n",
      "Epoch 29, Loss: 0.01668650098145008, Accuracy: 0.09629682451486588, Test Loss: 0.016266513615846634, Test MAE: 0.09218564629554749\n",
      "Epoch 30, Loss: 0.015789315104484558, Accuracy: 0.0947674810886383, Test Loss: 0.015593315474689007, Test MAE: 0.09101412445306778\n",
      "Epoch 31, Loss: 0.015028794296085835, Accuracy: 0.09223104268312454, Test Loss: 0.01712653413414955, Test MAE: 0.09294763952493668\n",
      "Epoch 32, Loss: 0.015352574177086353, Accuracy: 0.09281729906797409, Test Loss: 0.019091788679361343, Test MAE: 0.11166210472583771\n",
      "Epoch 33, Loss: 0.01427692174911499, Accuracy: 0.0895240530371666, Test Loss: 0.016469968482851982, Test MAE: 0.10294247418642044\n",
      "Epoch 34, Loss: 0.015114018693566322, Accuracy: 0.09035864472389221, Test Loss: 0.015838075429201126, Test MAE: 0.08988988399505615\n",
      "Epoch 35, Loss: 0.014964098110795021, Accuracy: 0.09195894002914429, Test Loss: 0.02873704768717289, Test MAE: 0.11753787845373154\n",
      "Epoch 36, Loss: 0.015140068717300892, Accuracy: 0.09218817204236984, Test Loss: 0.013101327233016491, Test MAE: 0.08711405843496323\n",
      "Epoch 37, Loss: 0.014883831143379211, Accuracy: 0.09097374230623245, Test Loss: 0.013020873069763184, Test MAE: 0.08637647330760956\n",
      "Epoch 38, Loss: 0.01489858329296112, Accuracy: 0.09122930467128754, Test Loss: 0.027598490938544273, Test MAE: 0.11518467962741852\n",
      "Epoch 39, Loss: 0.014723104424774647, Accuracy: 0.08903902769088745, Test Loss: 0.019794868305325508, Test MAE: 0.09749841690063477\n",
      "Epoch 40, Loss: 0.013721819967031479, Accuracy: 0.08686337620019913, Test Loss: 0.012830207124352455, Test MAE: 0.08486981689929962\n",
      "Epoch 41, Loss: 0.013521240092813969, Accuracy: 0.08650440722703934, Test Loss: 0.012901649810373783, Test MAE: 0.08448577672243118\n",
      "Epoch 42, Loss: 0.01435287669301033, Accuracy: 0.08904813975095749, Test Loss: 0.012555593624711037, Test MAE: 0.08438607305288315\n",
      "Epoch 43, Loss: 0.01547416765242815, Accuracy: 0.09082385152578354, Test Loss: 0.01332585047930479, Test MAE: 0.08448348194360733\n",
      "Epoch 44, Loss: 0.013770942576229572, Accuracy: 0.08702712506055832, Test Loss: 0.013827984221279621, Test MAE: 0.08500099182128906\n",
      "Epoch 45, Loss: 0.015042495913803577, Accuracy: 0.08979500830173492, Test Loss: 0.013675147667527199, Test MAE: 0.08459178358316422\n",
      "Epoch 46, Loss: 0.013528916984796524, Accuracy: 0.08684764802455902, Test Loss: 0.012318515218794346, Test MAE: 0.0830608382821083\n",
      "Epoch 47, Loss: 0.01532537117600441, Accuracy: 0.09105789661407471, Test Loss: 0.01770266890525818, Test MAE: 0.09271308034658432\n",
      "Epoch 48, Loss: 0.014126084744930267, Accuracy: 0.08688145875930786, Test Loss: 0.012058298103511333, Test MAE: 0.0833325982093811\n",
      "Epoch 49, Loss: 0.012765158899128437, Accuracy: 0.0837826281785965, Test Loss: 0.012217331677675247, Test MAE: 0.08216865360736847\n",
      "Epoch 50, Loss: 0.012348826043307781, Accuracy: 0.08317507058382034, Test Loss: 0.014257718808948994, Test MAE: 0.08517777919769287\n",
      "WARNING:tensorflow:Ignoring `profiler_outdir` passed to trace_export(). Please pass it to trace_on() instead.\n",
      "WARNING:tensorflow:Error while stopping profiler: Cannot export profiling results. No profiler is running.\n"
     ]
    }
   ],
   "source": [
    "current_time = datetime.datetime.now().strftime(\"%Y%m%d-%H%M%S\")\n",
    "train_log_dir = logs_path / 'gradient_tape' / current_time / 'train'\n",
    "train_log_dir.mkdir(exist_ok=True, parents=True)\n",
    "test_log_dir = logs_path / 'gradient_tape' / current_time / 'test'\n",
    "test_log_dir.mkdir(exist_ok=True, parents=True)\n",
    "train_summary_writer = tf.summary.create_file_writer(str(train_log_dir))\n",
    "test_summary_writer = tf.summary.create_file_writer(str(test_log_dir))\n",
    "\n",
    "logdir=logs_path / \"fit\" / datetime.datetime.now().strftime(\"%Y%m%d-%H%M%S\")\n",
    "logdir.mkdir(exist_ok=True, parents=True)\n",
    "fit_summary_writer = tf.summary.create_file_writer(str(logdir))\n",
    "\n",
    "tf.summary.trace_on(graph=True, profiler=True, profiler_outdir=str(logdir))\n",
    "for epoch in range(EPOCHS):\n",
    "  # Reset the metrics at the start of the next epoch\n",
    "  for (x_train, y_train) in train_ds:\n",
    "\n",
    "    with fit_summary_writer.as_default():\n",
    "      train_step(x_train, y_train)\n",
    "\n",
    "\n",
    "  with train_summary_writer.as_default():\n",
    "    tf.summary.scalar('loss', train_loss.result(), step=epoch)\n",
    "    tf.summary.scalar('accuracy', train_accuracy.result(), step=epoch)\n",
    "\n",
    "  for (x_test, y_test) in test_ds:\n",
    "    test_step(x_test, y_test)\n",
    "\n",
    "  with test_summary_writer.as_default():\n",
    "    tf.summary.scalar('loss', test_loss.result(), step=epoch)\n",
    "    tf.summary.scalar('mae', test_accuracy.result(), step=epoch)\n",
    "\n",
    "  template = 'Epoch {}, Loss: {}, Accuracy: {}, Test Loss: {}, Test MAE: {}'\n",
    "  print (template.format(epoch+1,\n",
    "                         train_loss.result(),\n",
    "                         train_accuracy.result(),\n",
    "                         test_loss.result(),\n",
    "                         test_accuracy.result()))\n",
    "\n",
    "  # Reset metrics every epoch\n",
    "  train_loss.reset_state()\n",
    "  test_loss.reset_state()\n",
    "  train_accuracy.reset_state()\n",
    "  test_accuracy.reset_state()\n",
    "\n",
    "with fit_summary_writer.as_default():\n",
    "  tf.summary.trace_export(\n",
    "      name=\"my_func_trace\",\n",
    "      step=0,\n",
    "      profiler_outdir=str(logdir)\n",
    "  )"
   ]
  },
  {
   "cell_type": "code",
   "execution_count": 61,
   "metadata": {
    "pycharm": {
     "name": "#%%\n"
    }
   },
   "outputs": [],
   "source": [
    "model.save('./data/models/mymodel.keras')"
   ]
  },
  {
   "cell_type": "code",
   "execution_count": 62,
   "metadata": {
    "pycharm": {
     "name": "#%%\n"
    }
   },
   "outputs": [],
   "source": [
    "loaded_model = keras.models.load_model('./data/models/mymodel.keras', {'SomeModel': SomeModel})"
   ]
  },
  {
   "cell_type": "code",
   "execution_count": 63,
   "metadata": {
    "pycharm": {
     "name": "#%%\n"
    }
   },
   "outputs": [
    {
     "data": {
      "text/plain": [
       "<SomeModel name=some_model_2, built=True>"
      ]
     },
     "execution_count": 63,
     "metadata": {},
     "output_type": "execute_result"
    }
   ],
   "source": [
    "loaded_model"
   ]
  },
  {
   "cell_type": "code",
   "execution_count": 64,
   "metadata": {
    "collapsed": false,
    "jupyter": {
     "outputs_hidden": false
    },
    "pycharm": {
     "name": "#%%\n"
    }
   },
   "outputs": [
    {
     "data": {
      "text/plain": [
       "<SomeModel name=some_model_2, built=True>"
      ]
     },
     "execution_count": 64,
     "metadata": {},
     "output_type": "execute_result"
    }
   ],
   "source": [
    "model"
   ]
  },
  {
   "cell_type": "code",
   "execution_count": 65,
   "metadata": {
    "pycharm": {
     "name": "#%%\n"
    }
   },
   "outputs": [
    {
     "name": "stdout",
     "output_type": "stream",
     "text": [
      "\u001b[1m59/59\u001b[0m \u001b[32m━━━━━━━━━━━━━━━━━━━━\u001b[0m\u001b[37m\u001b[0m \u001b[1m0s\u001b[0m 1ms/step  \n",
      "\u001b[1m59/59\u001b[0m \u001b[32m━━━━━━━━━━━━━━━━━━━━\u001b[0m\u001b[37m\u001b[0m \u001b[1m0s\u001b[0m 873us/step\n"
     ]
    },
    {
     "data": {
      "text/plain": [
       "Reusing TensorBoard on port 6006 (pid 21648), started 1:43:09 ago. (Use '!kill 21648' to kill it.)"
      ]
     },
     "metadata": {},
     "output_type": "display_data"
    },
    {
     "data": {
      "text/html": [
       "\n",
       "      <iframe id=\"tensorboard-frame-21d24e73191910bd\" width=\"100%\" height=\"800\" frameborder=\"0\">\n",
       "      </iframe>\n",
       "      <script>\n",
       "        (function() {\n",
       "          const frame = document.getElementById(\"tensorboard-frame-21d24e73191910bd\");\n",
       "          const url = new URL(\"/\", window.location);\n",
       "          const port = 6006;\n",
       "          if (port) {\n",
       "            url.port = port;\n",
       "          }\n",
       "          frame.src = url;\n",
       "        })();\n",
       "      </script>\n",
       "    "
      ],
      "text/plain": [
       "<IPython.core.display.HTML object>"
      ]
     },
     "metadata": {},
     "output_type": "display_data"
    }
   ],
   "source": [
    "# Let's check:\n",
    "import numpy as np\n",
    "np.testing.assert_allclose(\n",
    "    model.predict(X_test),\n",
    "    loaded_model.predict(X_test)\n",
    ")\n",
    "%tensorboard --logdir ./data/logs"
   ]
  },
  {
   "cell_type": "code",
   "execution_count": 67,
   "metadata": {
    "pycharm": {
     "name": "#%%\n"
    }
   },
   "outputs": [
    {
     "data": {
      "text/plain": [
       "Reusing TensorBoard on port 6006 (pid 37056), started 21:19:38 ago. (Use '!kill 37056' to kill it.)"
      ]
     },
     "metadata": {},
     "output_type": "display_data"
    },
    {
     "data": {
      "text/html": [
       "\n",
       "      <iframe id=\"tensorboard-frame-17cefc50ce26fcd\" width=\"100%\" height=\"800\" frameborder=\"0\">\n",
       "      </iframe>\n",
       "      <script>\n",
       "        (function() {\n",
       "          const frame = document.getElementById(\"tensorboard-frame-17cefc50ce26fcd\");\n",
       "          const url = new URL(\"/\", window.location);\n",
       "          const port = 6006;\n",
       "          if (port) {\n",
       "            url.port = port;\n",
       "          }\n",
       "          frame.src = url;\n",
       "        })();\n",
       "      </script>\n",
       "    "
      ],
      "text/plain": [
       "<IPython.core.display.HTML object>"
      ]
     },
     "metadata": {},
     "output_type": "display_data"
    }
   ],
   "source": [
    "%tensorboard --logdir ./data/logs/gradient_tape"
   ]
  },
  {
   "cell_type": "code",
   "execution_count": null,
   "metadata": {
    "pycharm": {
     "name": "#%%\n"
    }
   },
   "outputs": [],
   "source": []
  }
 ],
 "metadata": {
  "kernelspec": {
   "display_name": "Python 3 (ipykernel)",
   "language": "python",
   "name": "python3"
  },
  "language_info": {
   "codemirror_mode": {
    "name": "ipython",
    "version": 3
   },
   "file_extension": ".py",
   "mimetype": "text/x-python",
   "name": "python",
   "nbconvert_exporter": "python",
   "pygments_lexer": "ipython3",
   "version": "3.12.6"
  }
 },
 "nbformat": 4,
 "nbformat_minor": 4
}
