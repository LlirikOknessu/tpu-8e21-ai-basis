{
 "cells": [
  {
   "cell_type": "markdown",
   "id": "c63dfd12",
   "metadata": {},
   "source": [
    "# Анализ медицинских данных страхования"
   ]
  },
  {
   "cell_type": "markdown",
   "id": "5774034c",
   "metadata": {},
   "source": [
    "\n",
    "В этом блокноте проведем анализ медицинских данных страхования. Мы:\n",
    "- Проверим данные на пропуски и дубли;\n",
    "- Выполним анализ распределений для ключевых признаков;\n",
    "- Проанализируем выбросы;\n",
    "- Закодируем категориальные данные и построим расширенную корреляционную матрицу.\n"
   ]
  },
  {
   "cell_type": "code",
   "execution_count": null,
   "id": "9df87de3",
   "metadata": {},
   "outputs": [],
   "source": [
    "\n",
    "import pandas as pd\n",
    "import numpy as np\n",
    "import seaborn as sns\n",
    "import matplotlib.pyplot as plt\n",
    "\n",
    "sns.set_theme(color_codes=True)\n"
   ]
  },
  {
   "cell_type": "code",
   "execution_count": null,
   "id": "9948ef18",
   "metadata": {},
   "outputs": [],
   "source": [
    "\n",
    "# Загружаем данные\n",
    "df = pd.read_csv(\"Kostin/data/raw/insurance.csv\")\n",
    "\n",
    "# Проверяем начало и конец датасета\n",
    "display(df.head(5))\n",
    "display(df.tail(5))\n"
   ]
  },
  {
   "cell_type": "code",
   "execution_count": null,
   "id": "1492d592",
   "metadata": {},
   "outputs": [],
   "source": [
    "\n",
    "# Проверяем типы данных\n",
    "print(\"Типы данных в датасете:\")\n",
    "print(df.dtypes)\n",
    "\n",
    "# Проверяем на дубли\n",
    "duplicates = df.duplicated()\n",
    "print(f\"Количество дублирующихся строк: {duplicates.sum()}\")\n",
    "df = df[~duplicates]  # Удаляем дубли\n",
    "\n",
    "# Проверяем пропуски\n",
    "print(\"Количество пропусков в данных:\")\n",
    "print(df.isnull().sum())\n"
   ]
  },
  {
   "cell_type": "code",
   "execution_count": null,
   "id": "8fbb0964",
   "metadata": {},
   "outputs": [],
   "source": [
    "\n",
    "# Распределение возраста\n",
    "plt.figure(figsize=(10, 6))\n",
    "sns.histplot(df['age'], kde=True, bins=20, color='blue')\n",
    "plt.title(\"Распределение возраста\", fontsize=16)\n",
    "plt.xlabel(\"Возраст\", fontsize=14)\n",
    "plt.ylabel(\"Частота\", fontsize=14)\n",
    "plt.tight_layout()\n",
    "plt.show()\n",
    "\n",
    "# Распределение целевой переменной charges\n",
    "plt.figure(figsize=(10, 6))\n",
    "sns.histplot(df['charges'], kde=True, bins=20, color='green')\n",
    "plt.title(\"Распределение медицинских расходов\", fontsize=16)\n",
    "plt.xlabel(\"Расходы\", fontsize=14)\n",
    "plt.ylabel(\"Частота\", fontsize=14)\n",
    "plt.tight_layout()\n",
    "plt.show()\n"
   ]
  },
  {
   "cell_type": "code",
   "execution_count": null,
   "id": "dcf3a7f1",
   "metadata": {},
   "outputs": [],
   "source": [
    "\n",
    "# Корреляционный анализ (только для числовых столбцов)\n",
    "plt.figure(figsize=(12, 8))\n",
    "numerical_columns = df.select_dtypes(include=['float64', 'int64']).columns\n",
    "correlation = df[numerical_columns].corr()\n",
    "sns.heatmap(correlation, annot=True, cmap='coolwarm', fmt='.2f')\n",
    "plt.title(\"Корреляционная матрица\", fontsize=16)\n",
    "plt.tight_layout()\n",
    "plt.show()\n"
   ]
  },
  {
   "cell_type": "code",
   "execution_count": null,
   "id": "540a5a0e",
   "metadata": {},
   "outputs": [],
   "source": [
    "\n",
    "# Анализ выбросов\n",
    "plt.figure(figsize=(10, 6))\n",
    "sns.boxplot(x=df['charges'], color='orange')\n",
    "plt.title(\"Анализ выбросов в медицинских расходах\", fontsize=16)\n",
    "plt.tight_layout()\n",
    "plt.show()\n"
   ]
  },
  {
   "cell_type": "code",
   "execution_count": null,
   "id": "ffe8ebe3",
   "metadata": {},
   "outputs": [],
   "source": [
    "\n",
    "# Фильтруем выбросы по charges (задерживаем только данные в пределах 1.5 IQR)\n",
    "Q1 = df['charges'].quantile(0.25)\n",
    "Q3 = df['charges'].quantile(0.75)\n",
    "IQR = Q3 - Q1\n",
    "df_filtered = df[(df['charges'] >= Q1 - 1.5 * IQR) & (df['charges'] <= Q3 + 1.5 * IQR)]\n",
    "\n",
    "print(f\"Размер данных до фильтрации: {df.shape[0]}\")\n",
    "print(f\"Размер данных после фильтрации: {df_filtered.shape[0]}\")\n"
   ]
  },
  {
   "cell_type": "code",
   "execution_count": null,
   "id": "1d931e63",
   "metadata": {},
   "outputs": [],
   "source": [
    "\n",
    "# Сохраняем отфильтрованные данные\n",
    "df_filtered.to_csv('Kostin/data/filtered_insurance.csv', index=False)\n"
   ]
  },
  {
   "cell_type": "code",
   "execution_count": null,
   "id": "7460a1d1",
   "metadata": {},
   "outputs": [],
   "source": [
    "\n",
    "# Визуализируем зависимость расходов от региона\n",
    "plt.figure(figsize=(10, 6))\n",
    "sns.boxplot(x='region', y='charges', data=df, palette='pastel')\n",
    "plt.title(\"Распределение медицинских расходов по регионам\", fontsize=16)\n",
    "plt.xlabel(\"Регион\", fontsize=14)\n",
    "plt.ylabel(\"Медицинские расходы\", fontsize=14)\n",
    "plt.tight_layout()\n",
    "plt.show()\n",
    "\n",
    "# Зависимость расходов от курения\n",
    "plt.figure(figsize=(10, 6))\n",
    "sns.boxplot(x='smoker', y='charges', data=df, palette='coolwarm')\n",
    "plt.title(\"Зависимость медицинских расходов от курения\", fontsize=16)\n",
    "plt.xlabel(\"Курение\", fontsize=14)\n",
    "plt.ylabel(\"Медицинские расходы\", fontsize=14)\n",
    "plt.tight_layout()\n",
    "plt.show()\n"
   ]
  },
  {
   "cell_type": "code",
   "execution_count": null,
   "id": "ebd89352",
   "metadata": {},
   "outputs": [],
   "source": [
    "\n",
    "# Закодируем категориальные данные для численного анализа\n",
    "df_encoded = pd.get_dummies(df, drop_first=True)\n",
    "\n",
    "# Корреляционная матрица с кодированием\n",
    "plt.figure(figsize=(12, 8))\n",
    "correlation_encoded = df_encoded.corr()\n",
    "sns.heatmap(correlation_encoded, annot=True, cmap='coolwarm', fmt='.2f')\n",
    "plt.title(\"Корреляционная матрица (с категориальными переменными)\", fontsize=16)\n",
    "plt.tight_layout()\n",
    "plt.show()\n"
   ]
  },
  {
   "cell_type": "markdown",
   "id": "3d5f052c",
   "metadata": {},
   "source": [
    "\n",
    "## Итоги\n",
    "- Проведена очистка данных (удалены дубли и выбросы);\n",
    "- Построены распределения ключевых признаков;\n",
    "- Выполнен анализ категориальных переменных;\n",
    "- Закодированы категориальные данные, построена корреляционная матрица.\n"
   ]
  }
 ],
 "metadata": {},
 "nbformat": 4,
 "nbformat_minor": 5
}